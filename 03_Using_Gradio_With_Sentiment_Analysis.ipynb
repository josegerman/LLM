{
  "nbformat": 4,
  "nbformat_minor": 0,
  "metadata": {
    "colab": {
      "provenance": []
    },
    "kernelspec": {
      "name": "python3",
      "display_name": "Python 3"
    },
    "language_info": {
      "name": "python"
    }
  },
  "cells": [
    {
      "cell_type": "code",
      "source": [
        "pip --quiet install gradio"
      ],
      "metadata": {
        "id": "YfJFE9hhtDMT"
      },
      "execution_count": null,
      "outputs": []
    },
    {
      "cell_type": "code",
      "source": [
        "pip install --quiet transformers"
      ],
      "metadata": {
        "id": "8BEUhpUKtwTK"
      },
      "execution_count": 5,
      "outputs": []
    },
    {
      "cell_type": "code",
      "source": [
        "import transformers\n",
        "from transformers import pipeline\n",
        "import os\n",
        "\n",
        "sentiment_classifier = pipeline(\"sentiment-analysis\")\n",
        "\n",
        "#Cache usually available at : <<user-home>>.cache\\huggingface\\hub\n",
        "\n",
        "cache_dir = os.path.expanduser('~') + \"/.cache/huggingface/hub\"\n",
        "print(\"Huggingface Cache directory is : \", cache_dir)\n",
        "\n",
        "#Contents of cache directory\n",
        "os.listdir(cache_dir)"
      ],
      "metadata": {
        "id": "l0t6CXnXt92r"
      },
      "execution_count": null,
      "outputs": []
    },
    {
      "cell_type": "code",
      "execution_count": 11,
      "metadata": {
        "colab": {
          "base_uri": "https://localhost:8080/",
          "height": 650
        },
        "id": "X5W96Ou5tB0i",
        "outputId": "de974f80-b6c2-40ef-ec3d-dcea2c332f3b"
      },
      "outputs": [
        {
          "output_type": "stream",
          "name": "stdout",
          "text": [
            "Setting queue=True in a Colab notebook requires sharing enabled. Setting `share=True` (you can turn this off by setting `share=False` in `launch()` explicitly).\n",
            "\n",
            "Colab notebook detected. To show errors in colab notebook, set debug=True in launch()\n",
            "Running on public URL: https://28a4ebca7508b387f5.gradio.live\n",
            "\n",
            "This share link expires in 72 hours. For free permanent hosting and GPU upgrades, run `gradio deploy` from Terminal to deploy to Spaces (https://huggingface.co/spaces)\n"
          ]
        },
        {
          "output_type": "display_data",
          "data": {
            "text/plain": [
              "<IPython.core.display.HTML object>"
            ],
            "text/html": [
              "<div><iframe src=\"https://28a4ebca7508b387f5.gradio.live\" width=\"100%\" height=\"500\" allow=\"autoplay; camera; microphone; clipboard-read; clipboard-write;\" frameborder=\"0\" allowfullscreen></iframe></div>"
            ]
          },
          "metadata": {}
        },
        {
          "output_type": "execute_result",
          "data": {
            "text/plain": []
          },
          "metadata": {},
          "execution_count": 11
        }
      ],
      "source": [
        "import gradio as gr\n",
        "\n",
        "def sentiment_analysis(text):\n",
        "    sentiment_results=sentiment_classifier(text)\n",
        "    return sentiment_results[0][\"label\"]\n",
        "\n",
        "demo = gr.Interface(fn=sentiment_analysis, inputs=\"text\", outputs=\"text\")\n",
        "demo.launch()"
      ]
    }
  ]
}