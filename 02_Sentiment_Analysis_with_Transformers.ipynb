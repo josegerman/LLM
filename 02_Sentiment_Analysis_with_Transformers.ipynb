{
  "cells": [
    {
      "cell_type": "code",
      "execution_count": null,
      "id": "f34d8b0d",
      "metadata": {
        "id": "f34d8b0d"
      },
      "outputs": [],
      "source": [
        "#The main package that contains functions to use Hugging Face\n",
        "import transformers\n",
        "\n",
        "#Set to avoid warning messages.\n",
        "transformers.logging.set_verbosity_error()"
      ]
    },
    {
      "cell_type": "markdown",
      "id": "73ca837c",
      "metadata": {
        "id": "73ca837c"
      },
      "source": [
        "## Reviewing the Pipeline\n",
        "\n",
        "Use the pipeline registry to look at available pipeline tasks and also explore a specific pipeline"
      ]
    },
    {
      "cell_type": "code",
      "execution_count": null,
      "id": "4c0cfee0",
      "metadata": {
        "id": "4c0cfee0",
        "outputId": "20bac09d-6604-4c53-c33b-ed47fe30efb2"
      },
      "outputs": [
        {
          "name": "stdout",
          "output_type": "stream",
          "text": [
            "['audio-classification', 'automatic-speech-recognition', 'conversational', 'depth-estimation', 'document-question-answering', 'feature-extraction', 'fill-mask', 'image-classification', 'image-segmentation', 'image-to-text', 'ner', 'object-detection', 'question-answering', 'sentiment-analysis', 'summarization', 'table-question-answering', 'text-classification', 'text-generation', 'text2text-generation', 'token-classification', 'translation', 'visual-question-answering', 'vqa', 'zero-shot-classification', 'zero-shot-image-classification', 'zero-shot-object-detection']\n"
          ]
        }
      ],
      "source": [
        "from transformers.pipelines import PIPELINE_REGISTRY\n",
        "\n",
        "#Get the list of tasks that are supported by Huggingface pipeline\n",
        "print(PIPELINE_REGISTRY.get_supported_tasks())\n"
      ]
    },
    {
      "cell_type": "code",
      "execution_count": null,
      "id": "47ede308",
      "metadata": {
        "id": "47ede308"
      },
      "outputs": [],
      "source": [
        "#Get information about a specific task\n",
        "print(\"\\nDefault Model for Sentiment Analysis: \")\n",
        "print(PIPELINE_REGISTRY.check_task('sentiment-analysis')[1].get('default'))"
      ]
    },
    {
      "cell_type": "markdown",
      "id": "58bb2f76",
      "metadata": {
        "id": "58bb2f76"
      },
      "source": [
        "## Loading a Pipeline"
      ]
    },
    {
      "cell_type": "code",
      "execution_count": null,
      "id": "4f892fe0",
      "metadata": {
        "id": "4f892fe0"
      },
      "outputs": [],
      "source": [
        "from transformers import pipeline\n",
        "import os\n",
        "\n",
        "#Load a pipeline. This will download the model checkpoint from huggingface and cache it\n",
        "#locally on disk. If model is already available in cache, it will simply use the cached version\n",
        "#Download will usually take a long time, depending on network bandwidth\n",
        "\n",
        "sentiment_classifier = pipeline(\"sentiment-analysis\")\n",
        "\n",
        "#Cache usually available at : <<user-home>>.cache\\huggingface\\hub\n",
        "\n",
        "cache_dir = os.path.expanduser('~') + \"/.cache/huggingface/hub\"\n",
        "print(\"Huggingface Cache directory is : \", cache_dir)\n",
        "\n",
        "#Contents of cache directory\n",
        "os.listdir(cache_dir)"
      ]
    },
    {
      "cell_type": "markdown",
      "id": "01f95416",
      "metadata": {
        "id": "01f95416"
      },
      "source": [
        "## Predicting Sentiment with Default Model"
      ]
    },
    {
      "cell_type": "code",
      "execution_count": null,
      "id": "7f24b4ea",
      "metadata": {
        "id": "7f24b4ea",
        "outputId": "70709330-468d-478c-adcc-2f190693eef4"
      },
      "outputs": [
        {
          "name": "stdout",
          "output_type": "stream",
          "text": [
            "[{'label': 'POSITIVE', 'score': 0.9998713731765747}]\n"
          ]
        }
      ],
      "source": [
        "#Predict sentiment using the pipeline\n",
        "sentiment_results=sentiment_classifier(\"This is a great course\")\n",
        "print(sentiment_results)\n"
      ]
    },
    {
      "cell_type": "code",
      "execution_count": null,
      "id": "104c06f7",
      "metadata": {
        "id": "104c06f7",
        "outputId": "85b62e23-9ea2-40dc-d1e7-a64e8d6d198a"
      },
      "outputs": [
        {
          "name": "stdout",
          "output_type": "stream",
          "text": [
            "[{'label': 'NEGATIVE', 'score': 0.9998070597648621}]\n"
          ]
        }
      ],
      "source": [
        "#A second example\n",
        "sentiment_results=sentiment_classifier(\"The download speed is really bad\")\n",
        "print(sentiment_results)"
      ]
    },
    {
      "cell_type": "markdown",
      "id": "8154d932",
      "metadata": {
        "id": "8154d932"
      },
      "source": [
        "## Using a custom Model"
      ]
    },
    {
      "cell_type": "code",
      "execution_count": null,
      "id": "2e52dbb2",
      "metadata": {
        "id": "2e52dbb2"
      },
      "outputs": [],
      "source": [
        "sentiment_classifier = pipeline(task=\"sentiment-analysis\",\n",
        "                                model=\"finiteautomata/bertweet-base-sentiment-analysis\")\n",
        "\n",
        "sentiment_result=sentiment_classifier(\"This is a great course\")\n",
        "\n",
        "print(sentiment_result)\n",
        "\n",
        "#Contents of cache directory\n",
        "os.listdir(cache_dir)"
      ]
    },
    {
      "cell_type": "code",
      "execution_count": null,
      "id": "5c7ed64d",
      "metadata": {
        "id": "5c7ed64d"
      },
      "outputs": [],
      "source": []
    }
  ],
  "metadata": {
    "kernelspec": {
      "display_name": "Python 3 (ipykernel)",
      "language": "python",
      "name": "python3"
    },
    "language_info": {
      "codemirror_mode": {
        "name": "ipython",
        "version": 3
      },
      "file_extension": ".py",
      "mimetype": "text/x-python",
      "name": "python",
      "nbconvert_exporter": "python",
      "pygments_lexer": "ipython3",
      "version": "3.9.15"
    },
    "colab": {
      "provenance": []
    }
  },
  "nbformat": 4,
  "nbformat_minor": 5
}